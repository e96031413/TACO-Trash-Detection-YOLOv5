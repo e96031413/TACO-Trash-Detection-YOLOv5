{
 "cells": [
  {
   "cell_type": "markdown",
   "metadata": {},
   "source": [
    "### Reference: https://www.kaggle.com/rkuo2000/yolov5-taco\n",
    "### dataset: https://www.kaggle.com/kneroma/tacotrashdataset/notebooks"
   ]
  },
  {
   "cell_type": "code",
   "execution_count": null,
   "metadata": {},
   "outputs": [],
   "source": [
    "# install kaggle api to fetch dataset\n",
    "pip install kaggle --upgrade"
   ]
  },
  {
   "cell_type": "code",
   "execution_count": null,
   "metadata": {},
   "outputs": [],
   "source": [
    "!pip install pycocotools"
   ]
  },
  {
   "cell_type": "code",
   "execution_count": null,
   "metadata": {},
   "outputs": [],
   "source": [
    "# 將API token複製到~/.kaggle/kaggle.json，參考下列網址\n",
    "# https://github.com/Kaggle/kaggle-api"
   ]
  },
  {
   "cell_type": "code",
   "execution_count": null,
   "metadata": {},
   "outputs": [],
   "source": [
    "!mkdir trash_detection && cd trash_detection"
   ]
  },
  {
   "cell_type": "code",
   "execution_count": null,
   "metadata": {},
   "outputs": [],
   "source": [
    "# Download the dataset and use unzip command according to your folder structure.\n",
    "!kaggle datasets download kneroma/tacotrashdataset"
   ]
  },
  {
   "cell_type": "code",
   "execution_count": null,
   "metadata": {},
   "outputs": [],
   "source": [
    "!git clone https://github.com/ultralytics/yolov5\n",
    "%cd yolov5"
   ]
  },
  {
   "cell_type": "code",
   "execution_count": null,
   "metadata": {},
   "outputs": [],
   "source": [
    "from utils.google_utils import *\n",
    "attempt_download('weights/yolov5s.pt')"
   ]
  },
  {
   "cell_type": "code",
   "execution_count": null,
   "metadata": {},
   "outputs": [],
   "source": [
    "import os\n",
    "import shutil\n",
    "import numpy as np\n",
    "import tqdm"
   ]
  },
  {
   "cell_type": "code",
   "execution_count": null,
   "metadata": {},
   "outputs": [],
   "source": [
    "from pycocotools.coco import COCO\n",
    "data_source = COCO(annotation_file='../data/annotations.json')"
   ]
  },
  {
   "cell_type": "code",
   "execution_count": null,
   "metadata": {},
   "outputs": [],
   "source": [
    "# remapping label id to 0~60\n",
    "label_transfer = { x+1: x for x in range(0,60)}"
   ]
  },
  {
   "cell_type": "code",
   "execution_count": null,
   "metadata": {},
   "outputs": [],
   "source": [
    "img_ids = data_source.getImgIds()\n",
    "\n",
    "catIds = data_source.getCatIds()\n",
    "categories = data_source.loadCats(catIds)\n",
    "categories.sort(key=lambda x: x['id'])\n",
    "classes = {}\n",
    "coco_labels = {}\n",
    "coco_labels_inverse = {}\n",
    "for c in categories:\n",
    "    coco_labels[len(classes)] = c['id']\n",
    "    coco_labels_inverse[c['id']] = len(classes)\n",
    "    classes[c['name']] = len(classes)\n",
    "\n",
    "class_num = {}"
   ]
  },
  {
   "cell_type": "code",
   "execution_count": null,
   "metadata": {},
   "outputs": [],
   "source": [
    "% cd ..\n",
    "!mkdir -p tmp/labels tmp/images\n",
    "save_base_path  = '../tmp/labels/'\n",
    "save_image_path = '../tmp/images/'"
   ]
  },
  {
   "cell_type": "code",
   "execution_count": null,
   "metadata": {},
   "outputs": [],
   "source": [
    "for index, img_id in tqdm.tqdm(enumerate(img_ids), desc='change .json file to .txt file'):\n",
    "    img_info = data_source.loadImgs(img_id)[0]\n",
    "    # 將含文件夾的路徑修改為文件名\n",
    "    save_name = img_info['file_name'].replace('/', '_')\n",
    "    # 移去文件擴展名\n",
    "    file_name = save_name.split('.')[0]\n",
    "    # 獲取單張圖像的寬和高\n",
    "    height = img_info['height']\n",
    "    width = img_info['width']\n",
    "    # 轉換所得txt文件存儲路徑\n",
    "    save_path = save_base_path + file_name + '.txt'\n",
    "    is_exist = False  # 記錄圖片是否包含目標垃圾類型對象\n",
    "    with open(save_path, mode='w') as fp:\n",
    "        # 根據圖片編號找出垃圾對象的編號集合\n",
    "        annotation_id = data_source.getAnnIds(img_id)\n",
    "        boxes = np.zeros((0, 5))\n",
    "        if len(annotation_id) == 0:  # 集合大小為0\n",
    "            fp.write('')\n",
    "            continue\n",
    "        # 獲取coco格式的標籤\n",
    "        annotations = data_source.loadAnns(annotation_id)\n",
    "        lines = ''  # 記錄轉換後yolo格式的標籤\n",
    "        # 遍歷對象標籤集\n",
    "        for annotation in annotations:\n",
    "            # 獲取垃圾對象的標籤\n",
    "            label = coco_labels_inverse[annotation['category_id']]\n",
    "            if label in label_transfer.keys():\n",
    "                # 垃圾類型屬於目標垃圾類型則進行格式轉換\n",
    "                is_exist = True\n",
    "                box = annotation['bbox']\n",
    "                if box[2] < 1 or box[3] < 1:\n",
    "                    # 如果原標籤中出現無長或寬數據的情況則跳過\n",
    "                    continue\n",
    "                # top_x,top_y,width,height==>cen_x,cen_y,width,height\n",
    "                box[0] = round((box[0] + box[2] / 2) / width, 6)\n",
    "                box[1] = round((box[1] + box[3] / 2) / height, 6)\n",
    "                box[2] = round(box[2] / width, 6)\n",
    "                box[3] = round(box[3] / height, 6)\n",
    "                label = label_transfer[label]  # 標籤映射\n",
    "                if label not in class_num.keys():\n",
    "                    class_num[label] = 0\n",
    "                class_num[label] += 1\n",
    "                lines = lines + str(label)  # 先存儲標籤\n",
    "                for i in box:  # 再存儲位置信息\n",
    "                    lines += ' ' + str(i)\n",
    "                lines += '\\n'  # 換行\n",
    "        fp.writelines(lines)\n",
    "    if is_exist:\n",
    "        # 存在目標類型對象，則拷貝圖像至指定目錄\n",
    "        shutil.copy('../data/{}'.format(img_info['file_name']), os.path.join(save_image_path, save_name))\n",
    "    else:\n",
    "        # 不存在則刪除所生成的標籤文件\n",
    "        os.remove(save_path)"
   ]
  },
  {
   "cell_type": "code",
   "execution_count": null,
   "metadata": {},
   "outputs": [],
   "source": [
    "!pip install split-folders"
   ]
  },
  {
   "cell_type": "code",
   "execution_count": null,
   "metadata": {},
   "outputs": [],
   "source": [
    "import splitfolders\n",
    "splitfolders.ratio('tmp', output=\"taco\", seed=1337, ratio=(.8, 0.1,0.1)) "
   ]
  },
  {
   "cell_type": "code",
   "execution_count": null,
   "metadata": {},
   "outputs": [],
   "source": [
    "%cd yolov5"
   ]
  },
  {
   "cell_type": "code",
   "execution_count": null,
   "metadata": {},
   "outputs": [],
   "source": [
    "!python train.py --img 320 --batch 32 --epochs 100 --data taco.yaml --cfg models/yolov5s.yaml --weights ''"
   ]
  }
 ],
 "metadata": {
  "kernelspec": {
   "display_name": "Python 3",
   "language": "python",
   "name": "python3"
  },
  "language_info": {
   "codemirror_mode": {
    "name": "ipython",
    "version": 3
   },
   "file_extension": ".py",
   "mimetype": "text/x-python",
   "name": "python",
   "nbconvert_exporter": "python",
   "pygments_lexer": "ipython3",
   "version": "3.6.7"
  }
 },
 "nbformat": 4,
 "nbformat_minor": 4
}
